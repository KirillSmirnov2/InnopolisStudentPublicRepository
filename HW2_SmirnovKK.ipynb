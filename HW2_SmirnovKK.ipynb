{
  "nbformat": 4,
  "nbformat_minor": 0,
  "metadata": {
    "colab": {
      "provenance": [],
      "authorship_tag": "ABX9TyMaryHgOLRfHk977eLyD7yL",
      "include_colab_link": true
    },
    "kernelspec": {
      "name": "python3",
      "display_name": "Python 3"
    },
    "language_info": {
      "name": "python"
    }
  },
  "cells": [
    {
      "cell_type": "markdown",
      "metadata": {
        "id": "view-in-github",
        "colab_type": "text"
      },
      "source": [
        "<a href=\"https://colab.research.google.com/github/KirillSmirnov2/InnopolisStudentPublicRepository/blob/main/HW2_SmirnovKK.ipynb\" target=\"_parent\"><img src=\"https://colab.research.google.com/assets/colab-badge.svg\" alt=\"Open In Colab\"/></a>"
      ]
    },
    {
      "cell_type": "code",
      "execution_count": 142,
      "metadata": {
        "id": "80VAn4mma5gf"
      },
      "outputs": [],
      "source": [
        "import pandas as pd"
      ]
    },
    {
      "cell_type": "code",
      "source": [
        "df1=pd.read_csv('anime.csv')\n",
        "#df2=pd.read_csv('rating.csv')"
      ],
      "metadata": {
        "id": "Ms8K5ULVwuuO"
      },
      "execution_count": 146,
      "outputs": []
    },
    {
      "cell_type": "code",
      "source": [
        "df1.info()\n",
        "#df2.info()"
      ],
      "metadata": {
        "colab": {
          "base_uri": "https://localhost:8080/"
        },
        "id": "WE60DIWiw-5M",
        "outputId": "ef13ba4a-dbd2-4ce3-b0e0-c3f28cf836e9"
      },
      "execution_count": 147,
      "outputs": [
        {
          "output_type": "stream",
          "name": "stdout",
          "text": [
            "<class 'pandas.core.frame.DataFrame'>\n",
            "RangeIndex: 12294 entries, 0 to 12293\n",
            "Data columns (total 7 columns):\n",
            " #   Column    Non-Null Count  Dtype  \n",
            "---  ------    --------------  -----  \n",
            " 0   anime_id  12294 non-null  int64  \n",
            " 1   name      12294 non-null  object \n",
            " 2   genre     12232 non-null  object \n",
            " 3   type      12269 non-null  object \n",
            " 4   episodes  12294 non-null  object \n",
            " 5   rating    12064 non-null  float64\n",
            " 6   members   12294 non-null  int64  \n",
            "dtypes: float64(1), int64(2), object(4)\n",
            "memory usage: 672.5+ KB\n"
          ]
        }
      ]
    },
    {
      "cell_type": "code",
      "source": [
        "#df1['genre'].loc[12293]\n",
        "n_rows=len(df1['genre'])\n",
        "print('число строк:  ',n_rows)\n",
        "genre_list=[]\n",
        "#genre_list.append('')\n",
        "print(len(genre_list))\n",
        "count_genres=0\n",
        "for i in range(n_rows): #n_rows#\n",
        "  S1=[]\n",
        "  #print('строка:  ',i)\n",
        "  #print(genre_list)\n",
        "  #print(type(df1['genre'].loc[i]))\n",
        "  if type(df1['genre'].loc[i]) == str:\n",
        "    S1=df1['genre'].loc[i].split(',')\n",
        "    #print('запись: ',S1)\n",
        "    P=[]\n",
        "    for j in S1:\n",
        "      P=j.replace(' ','')\n",
        "      #print('элем. :',P)\n",
        "      if genre_list.count(P)==0:\n",
        "        genre_list.append(P)\n",
        "  else:\n",
        "    pass\n",
        "print('список жанров:  ',genre_list)\n",
        "print('число жанров:  ',len(genre_list))\n",
        "\n",
        "\n",
        "\n",
        "\n",
        "\n"
      ],
      "metadata": {
        "colab": {
          "base_uri": "https://localhost:8080/"
        },
        "id": "gY8oUPFgymPl",
        "outputId": "4403110f-3907-4ed9-f8c6-3061ea5ff55e"
      },
      "execution_count": 150,
      "outputs": [
        {
          "output_type": "stream",
          "name": "stdout",
          "text": [
            "число строк:   12294\n",
            "0\n",
            "список жанров:   ['Drama', 'Romance', 'School', 'Supernatural', 'Action', 'Adventure', 'Fantasy', 'Magic', 'Military', 'Shounen', 'Comedy', 'Historical', 'Parody', 'Samurai', 'Sci-Fi', 'Thriller', 'Sports', 'SuperPower', 'Space', 'SliceofLife', 'Mecha', 'Music', 'Mystery', 'Seinen', 'MartialArts', 'Vampire', 'Shoujo', 'Horror', 'Police', 'Psychological', 'Demons', 'Ecchi', 'Josei', 'ShounenAi', 'Game', 'Dementia', 'Harem', 'Cars', 'Kids', 'ShoujoAi', 'Hentai', 'Yaoi', 'Yuri']\n",
            "число жанров:   43\n"
          ]
        }
      ]
    }
  ]
}