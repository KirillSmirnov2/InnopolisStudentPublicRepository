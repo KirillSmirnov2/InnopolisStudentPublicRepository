{
  "nbformat": 4,
  "nbformat_minor": 0,
  "metadata": {
    "colab": {
      "provenance": [],
      "authorship_tag": "ABX9TyPZAEc+ZIxkUDDKdQ4r0Xnt",
      "include_colab_link": true
    },
    "kernelspec": {
      "name": "python3",
      "display_name": "Python 3"
    },
    "language_info": {
      "name": "python"
    }
  },
  "cells": [
    {
      "cell_type": "markdown",
      "metadata": {
        "id": "view-in-github",
        "colab_type": "text"
      },
      "source": [
        "<a href=\"https://colab.research.google.com/github/KirillSmirnov2/InnopolisStudentPublicRepository/blob/main/HW2_SmirnovKK.ipynb\" target=\"_parent\"><img src=\"https://colab.research.google.com/assets/colab-badge.svg\" alt=\"Open In Colab\"/></a>"
      ]
    },
    {
      "cell_type": "code",
      "execution_count": null,
      "metadata": {
        "id": "80VAn4mma5gf"
      },
      "outputs": [],
      "source": [
        "import pandas as pd"
      ]
    },
    {
      "cell_type": "code",
      "source": [
        "df1=pd.read_csv('anime.csv')\n",
        "df2=pd.read_csv('rating.csv')"
      ],
      "metadata": {
        "id": "Ms8K5ULVwuuO"
      },
      "execution_count": null,
      "outputs": []
    },
    {
      "cell_type": "code",
      "source": [
        "df1.info()\n",
        "df2.info()"
      ],
      "metadata": {
        "colab": {
          "base_uri": "https://localhost:8080/"
        },
        "id": "WE60DIWiw-5M",
        "outputId": "ad988675-b181-4cf1-a57c-044b8f0a0cd6"
      },
      "execution_count": null,
      "outputs": [
        {
          "output_type": "stream",
          "name": "stdout",
          "text": [
            "<class 'pandas.core.frame.DataFrame'>\n",
            "RangeIndex: 12294 entries, 0 to 12293\n",
            "Data columns (total 7 columns):\n",
            " #   Column    Non-Null Count  Dtype  \n",
            "---  ------    --------------  -----  \n",
            " 0   anime_id  12294 non-null  int64  \n",
            " 1   name      12294 non-null  object \n",
            " 2   genre     12232 non-null  object \n",
            " 3   type      12269 non-null  object \n",
            " 4   episodes  12294 non-null  object \n",
            " 5   rating    12064 non-null  float64\n",
            " 6   members   12294 non-null  int64  \n",
            "dtypes: float64(1), int64(2), object(4)\n",
            "memory usage: 672.5+ KB\n",
            "<class 'pandas.core.frame.DataFrame'>\n",
            "RangeIndex: 7813737 entries, 0 to 7813736\n",
            "Data columns (total 3 columns):\n",
            " #   Column    Dtype\n",
            "---  ------    -----\n",
            " 0   user_id   int64\n",
            " 1   anime_id  int64\n",
            " 2   rating    int64\n",
            "dtypes: int64(3)\n",
            "memory usage: 178.8 MB\n"
          ]
        }
      ]
    },
    {
      "cell_type": "code",
      "source": [
        "df1.to_excel('Anime_excel_tab.xlsx', index=False)"
      ],
      "metadata": {
        "id": "223cdPUgxdb1"
      },
      "execution_count": 33,
      "outputs": []
    },
    {
      "cell_type": "code",
      "source": [
        "#df1['genre'].loc[12293]\n",
        "n_rows=len(df1['genre'])\n",
        "print('число строк:  ',n_rows)\n",
        "genre_list=[]\n",
        "#genre_list.append('')\n",
        "print(len(genre_list))\n",
        "count_genres=0\n",
        "for i in range(n_rows): #n_rows#\n",
        "  S1=[]\n",
        "  #print('строка:  ',i)\n",
        "  #print(genre_list)\n",
        "  #print(type(df1['genre'].loc[i]))\n",
        "  if type(df1['genre'].loc[i]) == str:\n",
        "    S1=df1['genre'].loc[i].split(',')\n",
        "    #print('запись: ',S1)\n",
        "    P=[]\n",
        "    for j in S1:\n",
        "      P=j.replace(' ','')\n",
        "      #print('элем. :',P)\n",
        "      if genre_list.count(P)==0:\n",
        "        genre_list.append(P)\n",
        "  else:\n",
        "    pass\n",
        "print('список жанров:  ',genre_list)\n",
        "print('число жанров:  ',len(genre_list))\n",
        "\n",
        "\n",
        "\n",
        "\n",
        "\n"
      ],
      "metadata": {
        "colab": {
          "base_uri": "https://localhost:8080/"
        },
        "id": "gY8oUPFgymPl",
        "outputId": "65b708d2-4c78-4a8a-9d8d-410226f0d0a3"
      },
      "execution_count": 141,
      "outputs": [
        {
          "output_type": "stream",
          "name": "stdout",
          "text": [
            "число строк:   12294\n",
            "0\n",
            "список жанров:   ['Drama', 'Romance', 'School', 'Supernatural', 'Action', 'Adventure', 'Fantasy', 'Magic', 'Military', 'Shounen', 'Comedy', 'Historical', 'Parody', 'Samurai', 'Sci-Fi', 'Thriller', 'Sports', 'SuperPower', 'Space', 'SliceofLife', 'Mecha', 'Music', 'Mystery', 'Seinen', 'MartialArts', 'Vampire', 'Shoujo', 'Horror', 'Police', 'Psychological', 'Demons', 'Ecchi', 'Josei', 'ShounenAi', 'Game', 'Dementia', 'Harem', 'Cars', 'Kids', 'ShoujoAi', 'Hentai', 'Yaoi', 'Yuri']\n",
            "число жанров:   43\n"
          ]
        }
      ]
    },
    {
      "cell_type": "code",
      "source": [
        "#type(df1['genre'].loc[2844])#== list  #\n",
        "#.split(',')\n",
        "print(S1)\n",
        "\n",
        "S1=df1['genre'].loc[2].split(',')\n",
        "print(S1)\n",
        "for j in S1:\n",
        "  if j in genre_list:\n",
        "    pass\n",
        "  else:\n",
        "    count_genres+=1\n",
        "    genre_list[count_genres]=j\n",
        "print(genre_list)"
      ],
      "metadata": {
        "colab": {
          "base_uri": "https://localhost:8080/"
        },
        "id": "skD4Hq-h57zx",
        "outputId": "d531ae7b-d07a-405e-d37c-0c490e5826c0"
      },
      "execution_count": 73,
      "outputs": [
        {
          "output_type": "stream",
          "name": "stdout",
          "text": [
            "[]\n",
            "['Action', ' Comedy', ' Historical', ' Parody', ' Samurai', ' Sci-Fi', ' Shounen']\n",
            "{1: 'Action', 2: ' Comedy', 3: ' Historical', 4: ' Parody', 5: ' Samurai', 6: ' Sci-Fi', 7: ' Shounen', 8: 'Action', 9: ' Comedy', 10: ' Historical', 11: ' Parody', 12: ' Samurai', 13: ' Sci-Fi', 14: ' Shounen', 15: 'Action', 16: ' Comedy', 17: ' Historical', 18: ' Parody', 19: ' Samurai', 20: ' Sci-Fi', 21: ' Shounen'}\n"
          ]
        }
      ]
    }
  ]
}