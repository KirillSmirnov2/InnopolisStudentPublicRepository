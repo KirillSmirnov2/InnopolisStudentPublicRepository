{
  "cells": [
    {
      "cell_type": "markdown",
      "metadata": {
        "id": "view-in-github",
        "colab_type": "text"
      },
      "source": [
        "<a href=\"https://colab.research.google.com/github/KirillSmirnov2/InnopolisStudentPublicRepository/blob/main/HW8_SmirnovKK.ipynb\" target=\"_parent\"><img src=\"https://colab.research.google.com/assets/colab-badge.svg\" alt=\"Open In Colab\"/></a>"
      ]
    },
    {
      "cell_type": "markdown",
      "source": [
        "Домашнее задание №8\n",
        "\n",
        "\n",
        "\n"
      ],
      "metadata": {
        "id": "OGe9O8RWsIqA"
      }
    },
    {
      "cell_type": "markdown",
      "metadata": {
        "id": "6930xFzuIga6"
      },
      "source": [
        "\n",
        "Использовать любой датасет с численными и категориальными данными, с количеством строк больше 30.\n",
        "Выполнить задания:\n",
        "\n",
        "1. Выполнить предобработку данных (найти и обработать пропуски, дубликаты и выбросы).\n",
        "\n",
        "2. Проверить все численные данные на нормальность по известным критериям.\n",
        "\n",
        "3. Сделать зависимые (произвольное разделение) и независимые (с помощью фильтров) выборки по нескольким столбцам.\n",
        "\n",
        "4. Выполнить сравнение выборок с помощью теста Стьюдента или тестов Манна-Уитни, Уилкоксона, Пирсона.\n"
      ]
    },
    {
      "cell_type": "markdown",
      "metadata": {
        "id": "rQXeiy23cnyW"
      },
      "source": [
        "---\n",
        "Задача 1\n",
        " Выполнить предобработку данных (найти и обработать пропуски, дубликаты и выбросы).\n",
        "\n",
        "\n",
        "---"
      ]
    },
    {
      "cell_type": "code",
      "source": [
        "import numpy as np\n",
        "import pandas as pd\n",
        "import math\n",
        "import time\n",
        "import matplotlib.pyplot as plt\n",
        "import seaborn as sns\n",
        "import statistics\n",
        "from itertools import filterfalse\n",
        "from sklearn.linear_model import LinearRegression\n",
        "import random\n",
        "\n"
      ],
      "metadata": {
        "id": "STsTZE_rsVJf"
      },
      "execution_count": 70,
      "outputs": []
    },
    {
      "cell_type": "code",
      "source": [
        "df=pd.read_csv('healthcare-dataset-stroke-data.csv')\n",
        "df.info()\n",
        "df.describe()"
      ],
      "metadata": {
        "colab": {
          "base_uri": "https://localhost:8080/",
          "height": 630
        },
        "id": "564BxwB5w5mF",
        "outputId": "4362790a-fcbc-4e33-8135-abe100eb9ad7"
      },
      "execution_count": 71,
      "outputs": [
        {
          "output_type": "stream",
          "name": "stdout",
          "text": [
            "<class 'pandas.core.frame.DataFrame'>\n",
            "RangeIndex: 5110 entries, 0 to 5109\n",
            "Data columns (total 12 columns):\n",
            " #   Column             Non-Null Count  Dtype  \n",
            "---  ------             --------------  -----  \n",
            " 0   id                 5110 non-null   int64  \n",
            " 1   gender             5110 non-null   object \n",
            " 2   age                5110 non-null   float64\n",
            " 3   hypertension       5110 non-null   int64  \n",
            " 4   heart_disease      5110 non-null   int64  \n",
            " 5   ever_married       5110 non-null   object \n",
            " 6   work_type          5110 non-null   object \n",
            " 7   Residence_type     5110 non-null   object \n",
            " 8   avg_glucose_level  5110 non-null   float64\n",
            " 9   bmi                4909 non-null   float64\n",
            " 10  smoking_status     5110 non-null   object \n",
            " 11  stroke             5110 non-null   int64  \n",
            "dtypes: float64(3), int64(4), object(5)\n",
            "memory usage: 479.2+ KB\n"
          ]
        },
        {
          "output_type": "execute_result",
          "data": {
            "text/plain": [
              "                 id          age  hypertension  heart_disease  \\\n",
              "count   5110.000000  5110.000000   5110.000000    5110.000000   \n",
              "mean   36517.829354    43.226614      0.097456       0.054012   \n",
              "std    21161.721625    22.612647      0.296607       0.226063   \n",
              "min       67.000000     0.080000      0.000000       0.000000   \n",
              "25%    17741.250000    25.000000      0.000000       0.000000   \n",
              "50%    36932.000000    45.000000      0.000000       0.000000   \n",
              "75%    54682.000000    61.000000      0.000000       0.000000   \n",
              "max    72940.000000    82.000000      1.000000       1.000000   \n",
              "\n",
              "       avg_glucose_level          bmi       stroke  \n",
              "count        5110.000000  4909.000000  5110.000000  \n",
              "mean          106.147677    28.893237     0.048728  \n",
              "std            45.283560     7.854067     0.215320  \n",
              "min            55.120000    10.300000     0.000000  \n",
              "25%            77.245000    23.500000     0.000000  \n",
              "50%            91.885000    28.100000     0.000000  \n",
              "75%           114.090000    33.100000     0.000000  \n",
              "max           271.740000    97.600000     1.000000  "
            ],
            "text/html": [
              "\n",
              "  <div id=\"df-846174fe-5249-4b77-8c81-378c9f1db958\" class=\"colab-df-container\">\n",
              "    <div>\n",
              "<style scoped>\n",
              "    .dataframe tbody tr th:only-of-type {\n",
              "        vertical-align: middle;\n",
              "    }\n",
              "\n",
              "    .dataframe tbody tr th {\n",
              "        vertical-align: top;\n",
              "    }\n",
              "\n",
              "    .dataframe thead th {\n",
              "        text-align: right;\n",
              "    }\n",
              "</style>\n",
              "<table border=\"1\" class=\"dataframe\">\n",
              "  <thead>\n",
              "    <tr style=\"text-align: right;\">\n",
              "      <th></th>\n",
              "      <th>id</th>\n",
              "      <th>age</th>\n",
              "      <th>hypertension</th>\n",
              "      <th>heart_disease</th>\n",
              "      <th>avg_glucose_level</th>\n",
              "      <th>bmi</th>\n",
              "      <th>stroke</th>\n",
              "    </tr>\n",
              "  </thead>\n",
              "  <tbody>\n",
              "    <tr>\n",
              "      <th>count</th>\n",
              "      <td>5110.000000</td>\n",
              "      <td>5110.000000</td>\n",
              "      <td>5110.000000</td>\n",
              "      <td>5110.000000</td>\n",
              "      <td>5110.000000</td>\n",
              "      <td>4909.000000</td>\n",
              "      <td>5110.000000</td>\n",
              "    </tr>\n",
              "    <tr>\n",
              "      <th>mean</th>\n",
              "      <td>36517.829354</td>\n",
              "      <td>43.226614</td>\n",
              "      <td>0.097456</td>\n",
              "      <td>0.054012</td>\n",
              "      <td>106.147677</td>\n",
              "      <td>28.893237</td>\n",
              "      <td>0.048728</td>\n",
              "    </tr>\n",
              "    <tr>\n",
              "      <th>std</th>\n",
              "      <td>21161.721625</td>\n",
              "      <td>22.612647</td>\n",
              "      <td>0.296607</td>\n",
              "      <td>0.226063</td>\n",
              "      <td>45.283560</td>\n",
              "      <td>7.854067</td>\n",
              "      <td>0.215320</td>\n",
              "    </tr>\n",
              "    <tr>\n",
              "      <th>min</th>\n",
              "      <td>67.000000</td>\n",
              "      <td>0.080000</td>\n",
              "      <td>0.000000</td>\n",
              "      <td>0.000000</td>\n",
              "      <td>55.120000</td>\n",
              "      <td>10.300000</td>\n",
              "      <td>0.000000</td>\n",
              "    </tr>\n",
              "    <tr>\n",
              "      <th>25%</th>\n",
              "      <td>17741.250000</td>\n",
              "      <td>25.000000</td>\n",
              "      <td>0.000000</td>\n",
              "      <td>0.000000</td>\n",
              "      <td>77.245000</td>\n",
              "      <td>23.500000</td>\n",
              "      <td>0.000000</td>\n",
              "    </tr>\n",
              "    <tr>\n",
              "      <th>50%</th>\n",
              "      <td>36932.000000</td>\n",
              "      <td>45.000000</td>\n",
              "      <td>0.000000</td>\n",
              "      <td>0.000000</td>\n",
              "      <td>91.885000</td>\n",
              "      <td>28.100000</td>\n",
              "      <td>0.000000</td>\n",
              "    </tr>\n",
              "    <tr>\n",
              "      <th>75%</th>\n",
              "      <td>54682.000000</td>\n",
              "      <td>61.000000</td>\n",
              "      <td>0.000000</td>\n",
              "      <td>0.000000</td>\n",
              "      <td>114.090000</td>\n",
              "      <td>33.100000</td>\n",
              "      <td>0.000000</td>\n",
              "    </tr>\n",
              "    <tr>\n",
              "      <th>max</th>\n",
              "      <td>72940.000000</td>\n",
              "      <td>82.000000</td>\n",
              "      <td>1.000000</td>\n",
              "      <td>1.000000</td>\n",
              "      <td>271.740000</td>\n",
              "      <td>97.600000</td>\n",
              "      <td>1.000000</td>\n",
              "    </tr>\n",
              "  </tbody>\n",
              "</table>\n",
              "</div>\n",
              "    <div class=\"colab-df-buttons\">\n",
              "\n",
              "  <div class=\"colab-df-container\">\n",
              "    <button class=\"colab-df-convert\" onclick=\"convertToInteractive('df-846174fe-5249-4b77-8c81-378c9f1db958')\"\n",
              "            title=\"Convert this dataframe to an interactive table.\"\n",
              "            style=\"display:none;\">\n",
              "\n",
              "  <svg xmlns=\"http://www.w3.org/2000/svg\" height=\"24px\" viewBox=\"0 -960 960 960\">\n",
              "    <path d=\"M120-120v-720h720v720H120Zm60-500h600v-160H180v160Zm220 220h160v-160H400v160Zm0 220h160v-160H400v160ZM180-400h160v-160H180v160Zm440 0h160v-160H620v160ZM180-180h160v-160H180v160Zm440 0h160v-160H620v160Z\"/>\n",
              "  </svg>\n",
              "    </button>\n",
              "\n",
              "  <style>\n",
              "    .colab-df-container {\n",
              "      display:flex;\n",
              "      gap: 12px;\n",
              "    }\n",
              "\n",
              "    .colab-df-convert {\n",
              "      background-color: #E8F0FE;\n",
              "      border: none;\n",
              "      border-radius: 50%;\n",
              "      cursor: pointer;\n",
              "      display: none;\n",
              "      fill: #1967D2;\n",
              "      height: 32px;\n",
              "      padding: 0 0 0 0;\n",
              "      width: 32px;\n",
              "    }\n",
              "\n",
              "    .colab-df-convert:hover {\n",
              "      background-color: #E2EBFA;\n",
              "      box-shadow: 0px 1px 2px rgba(60, 64, 67, 0.3), 0px 1px 3px 1px rgba(60, 64, 67, 0.15);\n",
              "      fill: #174EA6;\n",
              "    }\n",
              "\n",
              "    .colab-df-buttons div {\n",
              "      margin-bottom: 4px;\n",
              "    }\n",
              "\n",
              "    [theme=dark] .colab-df-convert {\n",
              "      background-color: #3B4455;\n",
              "      fill: #D2E3FC;\n",
              "    }\n",
              "\n",
              "    [theme=dark] .colab-df-convert:hover {\n",
              "      background-color: #434B5C;\n",
              "      box-shadow: 0px 1px 3px 1px rgba(0, 0, 0, 0.15);\n",
              "      filter: drop-shadow(0px 1px 2px rgba(0, 0, 0, 0.3));\n",
              "      fill: #FFFFFF;\n",
              "    }\n",
              "  </style>\n",
              "\n",
              "    <script>\n",
              "      const buttonEl =\n",
              "        document.querySelector('#df-846174fe-5249-4b77-8c81-378c9f1db958 button.colab-df-convert');\n",
              "      buttonEl.style.display =\n",
              "        google.colab.kernel.accessAllowed ? 'block' : 'none';\n",
              "\n",
              "      async function convertToInteractive(key) {\n",
              "        const element = document.querySelector('#df-846174fe-5249-4b77-8c81-378c9f1db958');\n",
              "        const dataTable =\n",
              "          await google.colab.kernel.invokeFunction('convertToInteractive',\n",
              "                                                    [key], {});\n",
              "        if (!dataTable) return;\n",
              "\n",
              "        const docLinkHtml = 'Like what you see? Visit the ' +\n",
              "          '<a target=\"_blank\" href=https://colab.research.google.com/notebooks/data_table.ipynb>data table notebook</a>'\n",
              "          + ' to learn more about interactive tables.';\n",
              "        element.innerHTML = '';\n",
              "        dataTable['output_type'] = 'display_data';\n",
              "        await google.colab.output.renderOutput(dataTable, element);\n",
              "        const docLink = document.createElement('div');\n",
              "        docLink.innerHTML = docLinkHtml;\n",
              "        element.appendChild(docLink);\n",
              "      }\n",
              "    </script>\n",
              "  </div>\n",
              "\n",
              "\n",
              "<div id=\"df-3d884734-cd2d-4c02-b507-1328cb771340\">\n",
              "  <button class=\"colab-df-quickchart\" onclick=\"quickchart('df-3d884734-cd2d-4c02-b507-1328cb771340')\"\n",
              "            title=\"Suggest charts.\"\n",
              "            style=\"display:none;\">\n",
              "\n",
              "<svg xmlns=\"http://www.w3.org/2000/svg\" height=\"24px\"viewBox=\"0 0 24 24\"\n",
              "     width=\"24px\">\n",
              "    <g>\n",
              "        <path d=\"M19 3H5c-1.1 0-2 .9-2 2v14c0 1.1.9 2 2 2h14c1.1 0 2-.9 2-2V5c0-1.1-.9-2-2-2zM9 17H7v-7h2v7zm4 0h-2V7h2v10zm4 0h-2v-4h2v4z\"/>\n",
              "    </g>\n",
              "</svg>\n",
              "  </button>\n",
              "\n",
              "<style>\n",
              "  .colab-df-quickchart {\n",
              "      --bg-color: #E8F0FE;\n",
              "      --fill-color: #1967D2;\n",
              "      --hover-bg-color: #E2EBFA;\n",
              "      --hover-fill-color: #174EA6;\n",
              "      --disabled-fill-color: #AAA;\n",
              "      --disabled-bg-color: #DDD;\n",
              "  }\n",
              "\n",
              "  [theme=dark] .colab-df-quickchart {\n",
              "      --bg-color: #3B4455;\n",
              "      --fill-color: #D2E3FC;\n",
              "      --hover-bg-color: #434B5C;\n",
              "      --hover-fill-color: #FFFFFF;\n",
              "      --disabled-bg-color: #3B4455;\n",
              "      --disabled-fill-color: #666;\n",
              "  }\n",
              "\n",
              "  .colab-df-quickchart {\n",
              "    background-color: var(--bg-color);\n",
              "    border: none;\n",
              "    border-radius: 50%;\n",
              "    cursor: pointer;\n",
              "    display: none;\n",
              "    fill: var(--fill-color);\n",
              "    height: 32px;\n",
              "    padding: 0;\n",
              "    width: 32px;\n",
              "  }\n",
              "\n",
              "  .colab-df-quickchart:hover {\n",
              "    background-color: var(--hover-bg-color);\n",
              "    box-shadow: 0 1px 2px rgba(60, 64, 67, 0.3), 0 1px 3px 1px rgba(60, 64, 67, 0.15);\n",
              "    fill: var(--button-hover-fill-color);\n",
              "  }\n",
              "\n",
              "  .colab-df-quickchart-complete:disabled,\n",
              "  .colab-df-quickchart-complete:disabled:hover {\n",
              "    background-color: var(--disabled-bg-color);\n",
              "    fill: var(--disabled-fill-color);\n",
              "    box-shadow: none;\n",
              "  }\n",
              "\n",
              "  .colab-df-spinner {\n",
              "    border: 2px solid var(--fill-color);\n",
              "    border-color: transparent;\n",
              "    border-bottom-color: var(--fill-color);\n",
              "    animation:\n",
              "      spin 1s steps(1) infinite;\n",
              "  }\n",
              "\n",
              "  @keyframes spin {\n",
              "    0% {\n",
              "      border-color: transparent;\n",
              "      border-bottom-color: var(--fill-color);\n",
              "      border-left-color: var(--fill-color);\n",
              "    }\n",
              "    20% {\n",
              "      border-color: transparent;\n",
              "      border-left-color: var(--fill-color);\n",
              "      border-top-color: var(--fill-color);\n",
              "    }\n",
              "    30% {\n",
              "      border-color: transparent;\n",
              "      border-left-color: var(--fill-color);\n",
              "      border-top-color: var(--fill-color);\n",
              "      border-right-color: var(--fill-color);\n",
              "    }\n",
              "    40% {\n",
              "      border-color: transparent;\n",
              "      border-right-color: var(--fill-color);\n",
              "      border-top-color: var(--fill-color);\n",
              "    }\n",
              "    60% {\n",
              "      border-color: transparent;\n",
              "      border-right-color: var(--fill-color);\n",
              "    }\n",
              "    80% {\n",
              "      border-color: transparent;\n",
              "      border-right-color: var(--fill-color);\n",
              "      border-bottom-color: var(--fill-color);\n",
              "    }\n",
              "    90% {\n",
              "      border-color: transparent;\n",
              "      border-bottom-color: var(--fill-color);\n",
              "    }\n",
              "  }\n",
              "</style>\n",
              "\n",
              "  <script>\n",
              "    async function quickchart(key) {\n",
              "      const quickchartButtonEl =\n",
              "        document.querySelector('#' + key + ' button');\n",
              "      quickchartButtonEl.disabled = true;  // To prevent multiple clicks.\n",
              "      quickchartButtonEl.classList.add('colab-df-spinner');\n",
              "      try {\n",
              "        const charts = await google.colab.kernel.invokeFunction(\n",
              "            'suggestCharts', [key], {});\n",
              "      } catch (error) {\n",
              "        console.error('Error during call to suggestCharts:', error);\n",
              "      }\n",
              "      quickchartButtonEl.classList.remove('colab-df-spinner');\n",
              "      quickchartButtonEl.classList.add('colab-df-quickchart-complete');\n",
              "    }\n",
              "    (() => {\n",
              "      let quickchartButtonEl =\n",
              "        document.querySelector('#df-3d884734-cd2d-4c02-b507-1328cb771340 button');\n",
              "      quickchartButtonEl.style.display =\n",
              "        google.colab.kernel.accessAllowed ? 'block' : 'none';\n",
              "    })();\n",
              "  </script>\n",
              "</div>\n",
              "    </div>\n",
              "  </div>\n"
            ]
          },
          "metadata": {},
          "execution_count": 71
        }
      ]
    },
    {
      "cell_type": "code",
      "source": [
        "df['bmi']\n",
        "df.isnull().describe()\n",
        "df.loc[df.duplicated() == True]\n",
        "df.loc[df.duplicated(subset =['id']) == True]\n",
        "print(df)"
      ],
      "metadata": {
        "colab": {
          "base_uri": "https://localhost:8080/"
        },
        "id": "BQJkfNpR93vc",
        "outputId": "d2580929-b34a-493d-f21d-b24a892e0bff"
      },
      "execution_count": 72,
      "outputs": [
        {
          "output_type": "stream",
          "name": "stdout",
          "text": [
            "         id  gender   age  hypertension  heart_disease ever_married  \\\n",
            "0      9046    Male  67.0             0              1          Yes   \n",
            "1     51676  Female  61.0             0              0          Yes   \n",
            "2     31112    Male  80.0             0              1          Yes   \n",
            "3     60182  Female  49.0             0              0          Yes   \n",
            "4      1665  Female  79.0             1              0          Yes   \n",
            "...     ...     ...   ...           ...            ...          ...   \n",
            "5105  18234  Female  80.0             1              0          Yes   \n",
            "5106  44873  Female  81.0             0              0          Yes   \n",
            "5107  19723  Female  35.0             0              0          Yes   \n",
            "5108  37544    Male  51.0             0              0          Yes   \n",
            "5109  44679  Female  44.0             0              0          Yes   \n",
            "\n",
            "          work_type Residence_type  avg_glucose_level   bmi   smoking_status  \\\n",
            "0           Private          Urban             228.69  36.6  formerly smoked   \n",
            "1     Self-employed          Rural             202.21   NaN     never smoked   \n",
            "2           Private          Rural             105.92  32.5     never smoked   \n",
            "3           Private          Urban             171.23  34.4           smokes   \n",
            "4     Self-employed          Rural             174.12  24.0     never smoked   \n",
            "...             ...            ...                ...   ...              ...   \n",
            "5105        Private          Urban              83.75   NaN     never smoked   \n",
            "5106  Self-employed          Urban             125.20  40.0     never smoked   \n",
            "5107  Self-employed          Rural              82.99  30.6     never smoked   \n",
            "5108        Private          Rural             166.29  25.6  formerly smoked   \n",
            "5109       Govt_job          Urban              85.28  26.2          Unknown   \n",
            "\n",
            "      stroke  \n",
            "0          1  \n",
            "1          1  \n",
            "2          1  \n",
            "3          1  \n",
            "4          1  \n",
            "...      ...  \n",
            "5105       0  \n",
            "5106       0  \n",
            "5107       0  \n",
            "5108       0  \n",
            "5109       0  \n",
            "\n",
            "[5110 rows x 12 columns]\n"
          ]
        }
      ]
    },
    {
      "cell_type": "code",
      "source": [
        "print('gender data: ',set(df['gender'].tolist()))\n",
        "print('marriage data(ever_married): ',set(df['ever_married'].tolist()))\n",
        "print('work_type data: ',set(df['work_type'].tolist()))\n",
        "print('Residence_type: ',set(df['Residence_type'].tolist()))\n",
        "print('smoking_status data: ',set(df['smoking_status'].tolist()))\n",
        "df2=df.loc[df.isna()['bmi'] == False]\n",
        "print('убраны пропущенные bmi',len(df2))\n"
      ],
      "metadata": {
        "colab": {
          "base_uri": "https://localhost:8080/"
        },
        "id": "KApkmZdz-KNs",
        "outputId": "60696de3-749e-42e0-e922-0118cf37e0af"
      },
      "execution_count": 73,
      "outputs": [
        {
          "output_type": "stream",
          "name": "stdout",
          "text": [
            "gender data:  {'Female', 'Male', 'Other'}\n",
            "marriage data(ever_married):  {'Yes', 'No'}\n",
            "work_type data:  {'Self-employed', 'Govt_job', 'children', 'Private', 'Never_worked'}\n",
            "Residence_type:  {'Urban', 'Rural'}\n",
            "smoking_status data:  {'Unknown', 'smokes', 'never smoked', 'formerly smoked'}\n",
            "убраны пропущенные bmi 4909\n"
          ]
        }
      ]
    },
    {
      "cell_type": "markdown",
      "metadata": {
        "id": "eXgkCR9gIq4J"
      },
      "source": [
        "== ==================================================== == ==========================================\n",
        "\n",
        "Задача 2   Проверить все численные данные на нормальность по известным критериям.\n",
        "\n",
        "\n",
        "== ==================================================== == =========================================="
      ]
    },
    {
      "cell_type": "code",
      "source": [
        "df2.info()\n",
        "df2.describe()"
      ],
      "metadata": {
        "id": "5vwcztHjD-H7",
        "colab": {
          "base_uri": "https://localhost:8080/",
          "height": 630
        },
        "outputId": "ba3bf2f2-939c-409f-c9db-19eb21deb747"
      },
      "execution_count": 74,
      "outputs": [
        {
          "output_type": "stream",
          "name": "stdout",
          "text": [
            "<class 'pandas.core.frame.DataFrame'>\n",
            "Int64Index: 4909 entries, 0 to 5109\n",
            "Data columns (total 12 columns):\n",
            " #   Column             Non-Null Count  Dtype  \n",
            "---  ------             --------------  -----  \n",
            " 0   id                 4909 non-null   int64  \n",
            " 1   gender             4909 non-null   object \n",
            " 2   age                4909 non-null   float64\n",
            " 3   hypertension       4909 non-null   int64  \n",
            " 4   heart_disease      4909 non-null   int64  \n",
            " 5   ever_married       4909 non-null   object \n",
            " 6   work_type          4909 non-null   object \n",
            " 7   Residence_type     4909 non-null   object \n",
            " 8   avg_glucose_level  4909 non-null   float64\n",
            " 9   bmi                4909 non-null   float64\n",
            " 10  smoking_status     4909 non-null   object \n",
            " 11  stroke             4909 non-null   int64  \n",
            "dtypes: float64(3), int64(4), object(5)\n",
            "memory usage: 498.6+ KB\n"
          ]
        },
        {
          "output_type": "execute_result",
          "data": {
            "text/plain": [
              "                 id          age  hypertension  heart_disease  \\\n",
              "count   4909.000000  4909.000000   4909.000000    4909.000000   \n",
              "mean   37064.313506    42.865374      0.091872       0.049501   \n",
              "std    20995.098457    22.555115      0.288875       0.216934   \n",
              "min       77.000000     0.080000      0.000000       0.000000   \n",
              "25%    18605.000000    25.000000      0.000000       0.000000   \n",
              "50%    37608.000000    44.000000      0.000000       0.000000   \n",
              "75%    55220.000000    60.000000      0.000000       0.000000   \n",
              "max    72940.000000    82.000000      1.000000       1.000000   \n",
              "\n",
              "       avg_glucose_level          bmi       stroke  \n",
              "count        4909.000000  4909.000000  4909.000000  \n",
              "mean          105.305150    28.893237     0.042575  \n",
              "std            44.424341     7.854067     0.201917  \n",
              "min            55.120000    10.300000     0.000000  \n",
              "25%            77.070000    23.500000     0.000000  \n",
              "50%            91.680000    28.100000     0.000000  \n",
              "75%           113.570000    33.100000     0.000000  \n",
              "max           271.740000    97.600000     1.000000  "
            ],
            "text/html": [
              "\n",
              "  <div id=\"df-cbc5950a-fc3e-4ffe-9b2b-aaec69adde41\" class=\"colab-df-container\">\n",
              "    <div>\n",
              "<style scoped>\n",
              "    .dataframe tbody tr th:only-of-type {\n",
              "        vertical-align: middle;\n",
              "    }\n",
              "\n",
              "    .dataframe tbody tr th {\n",
              "        vertical-align: top;\n",
              "    }\n",
              "\n",
              "    .dataframe thead th {\n",
              "        text-align: right;\n",
              "    }\n",
              "</style>\n",
              "<table border=\"1\" class=\"dataframe\">\n",
              "  <thead>\n",
              "    <tr style=\"text-align: right;\">\n",
              "      <th></th>\n",
              "      <th>id</th>\n",
              "      <th>age</th>\n",
              "      <th>hypertension</th>\n",
              "      <th>heart_disease</th>\n",
              "      <th>avg_glucose_level</th>\n",
              "      <th>bmi</th>\n",
              "      <th>stroke</th>\n",
              "    </tr>\n",
              "  </thead>\n",
              "  <tbody>\n",
              "    <tr>\n",
              "      <th>count</th>\n",
              "      <td>4909.000000</td>\n",
              "      <td>4909.000000</td>\n",
              "      <td>4909.000000</td>\n",
              "      <td>4909.000000</td>\n",
              "      <td>4909.000000</td>\n",
              "      <td>4909.000000</td>\n",
              "      <td>4909.000000</td>\n",
              "    </tr>\n",
              "    <tr>\n",
              "      <th>mean</th>\n",
              "      <td>37064.313506</td>\n",
              "      <td>42.865374</td>\n",
              "      <td>0.091872</td>\n",
              "      <td>0.049501</td>\n",
              "      <td>105.305150</td>\n",
              "      <td>28.893237</td>\n",
              "      <td>0.042575</td>\n",
              "    </tr>\n",
              "    <tr>\n",
              "      <th>std</th>\n",
              "      <td>20995.098457</td>\n",
              "      <td>22.555115</td>\n",
              "      <td>0.288875</td>\n",
              "      <td>0.216934</td>\n",
              "      <td>44.424341</td>\n",
              "      <td>7.854067</td>\n",
              "      <td>0.201917</td>\n",
              "    </tr>\n",
              "    <tr>\n",
              "      <th>min</th>\n",
              "      <td>77.000000</td>\n",
              "      <td>0.080000</td>\n",
              "      <td>0.000000</td>\n",
              "      <td>0.000000</td>\n",
              "      <td>55.120000</td>\n",
              "      <td>10.300000</td>\n",
              "      <td>0.000000</td>\n",
              "    </tr>\n",
              "    <tr>\n",
              "      <th>25%</th>\n",
              "      <td>18605.000000</td>\n",
              "      <td>25.000000</td>\n",
              "      <td>0.000000</td>\n",
              "      <td>0.000000</td>\n",
              "      <td>77.070000</td>\n",
              "      <td>23.500000</td>\n",
              "      <td>0.000000</td>\n",
              "    </tr>\n",
              "    <tr>\n",
              "      <th>50%</th>\n",
              "      <td>37608.000000</td>\n",
              "      <td>44.000000</td>\n",
              "      <td>0.000000</td>\n",
              "      <td>0.000000</td>\n",
              "      <td>91.680000</td>\n",
              "      <td>28.100000</td>\n",
              "      <td>0.000000</td>\n",
              "    </tr>\n",
              "    <tr>\n",
              "      <th>75%</th>\n",
              "      <td>55220.000000</td>\n",
              "      <td>60.000000</td>\n",
              "      <td>0.000000</td>\n",
              "      <td>0.000000</td>\n",
              "      <td>113.570000</td>\n",
              "      <td>33.100000</td>\n",
              "      <td>0.000000</td>\n",
              "    </tr>\n",
              "    <tr>\n",
              "      <th>max</th>\n",
              "      <td>72940.000000</td>\n",
              "      <td>82.000000</td>\n",
              "      <td>1.000000</td>\n",
              "      <td>1.000000</td>\n",
              "      <td>271.740000</td>\n",
              "      <td>97.600000</td>\n",
              "      <td>1.000000</td>\n",
              "    </tr>\n",
              "  </tbody>\n",
              "</table>\n",
              "</div>\n",
              "    <div class=\"colab-df-buttons\">\n",
              "\n",
              "  <div class=\"colab-df-container\">\n",
              "    <button class=\"colab-df-convert\" onclick=\"convertToInteractive('df-cbc5950a-fc3e-4ffe-9b2b-aaec69adde41')\"\n",
              "            title=\"Convert this dataframe to an interactive table.\"\n",
              "            style=\"display:none;\">\n",
              "\n",
              "  <svg xmlns=\"http://www.w3.org/2000/svg\" height=\"24px\" viewBox=\"0 -960 960 960\">\n",
              "    <path d=\"M120-120v-720h720v720H120Zm60-500h600v-160H180v160Zm220 220h160v-160H400v160Zm0 220h160v-160H400v160ZM180-400h160v-160H180v160Zm440 0h160v-160H620v160ZM180-180h160v-160H180v160Zm440 0h160v-160H620v160Z\"/>\n",
              "  </svg>\n",
              "    </button>\n",
              "\n",
              "  <style>\n",
              "    .colab-df-container {\n",
              "      display:flex;\n",
              "      gap: 12px;\n",
              "    }\n",
              "\n",
              "    .colab-df-convert {\n",
              "      background-color: #E8F0FE;\n",
              "      border: none;\n",
              "      border-radius: 50%;\n",
              "      cursor: pointer;\n",
              "      display: none;\n",
              "      fill: #1967D2;\n",
              "      height: 32px;\n",
              "      padding: 0 0 0 0;\n",
              "      width: 32px;\n",
              "    }\n",
              "\n",
              "    .colab-df-convert:hover {\n",
              "      background-color: #E2EBFA;\n",
              "      box-shadow: 0px 1px 2px rgba(60, 64, 67, 0.3), 0px 1px 3px 1px rgba(60, 64, 67, 0.15);\n",
              "      fill: #174EA6;\n",
              "    }\n",
              "\n",
              "    .colab-df-buttons div {\n",
              "      margin-bottom: 4px;\n",
              "    }\n",
              "\n",
              "    [theme=dark] .colab-df-convert {\n",
              "      background-color: #3B4455;\n",
              "      fill: #D2E3FC;\n",
              "    }\n",
              "\n",
              "    [theme=dark] .colab-df-convert:hover {\n",
              "      background-color: #434B5C;\n",
              "      box-shadow: 0px 1px 3px 1px rgba(0, 0, 0, 0.15);\n",
              "      filter: drop-shadow(0px 1px 2px rgba(0, 0, 0, 0.3));\n",
              "      fill: #FFFFFF;\n",
              "    }\n",
              "  </style>\n",
              "\n",
              "    <script>\n",
              "      const buttonEl =\n",
              "        document.querySelector('#df-cbc5950a-fc3e-4ffe-9b2b-aaec69adde41 button.colab-df-convert');\n",
              "      buttonEl.style.display =\n",
              "        google.colab.kernel.accessAllowed ? 'block' : 'none';\n",
              "\n",
              "      async function convertToInteractive(key) {\n",
              "        const element = document.querySelector('#df-cbc5950a-fc3e-4ffe-9b2b-aaec69adde41');\n",
              "        const dataTable =\n",
              "          await google.colab.kernel.invokeFunction('convertToInteractive',\n",
              "                                                    [key], {});\n",
              "        if (!dataTable) return;\n",
              "\n",
              "        const docLinkHtml = 'Like what you see? Visit the ' +\n",
              "          '<a target=\"_blank\" href=https://colab.research.google.com/notebooks/data_table.ipynb>data table notebook</a>'\n",
              "          + ' to learn more about interactive tables.';\n",
              "        element.innerHTML = '';\n",
              "        dataTable['output_type'] = 'display_data';\n",
              "        await google.colab.output.renderOutput(dataTable, element);\n",
              "        const docLink = document.createElement('div');\n",
              "        docLink.innerHTML = docLinkHtml;\n",
              "        element.appendChild(docLink);\n",
              "      }\n",
              "    </script>\n",
              "  </div>\n",
              "\n",
              "\n",
              "<div id=\"df-4dfa0a05-3066-4823-9242-3766f5a31c85\">\n",
              "  <button class=\"colab-df-quickchart\" onclick=\"quickchart('df-4dfa0a05-3066-4823-9242-3766f5a31c85')\"\n",
              "            title=\"Suggest charts.\"\n",
              "            style=\"display:none;\">\n",
              "\n",
              "<svg xmlns=\"http://www.w3.org/2000/svg\" height=\"24px\"viewBox=\"0 0 24 24\"\n",
              "     width=\"24px\">\n",
              "    <g>\n",
              "        <path d=\"M19 3H5c-1.1 0-2 .9-2 2v14c0 1.1.9 2 2 2h14c1.1 0 2-.9 2-2V5c0-1.1-.9-2-2-2zM9 17H7v-7h2v7zm4 0h-2V7h2v10zm4 0h-2v-4h2v4z\"/>\n",
              "    </g>\n",
              "</svg>\n",
              "  </button>\n",
              "\n",
              "<style>\n",
              "  .colab-df-quickchart {\n",
              "      --bg-color: #E8F0FE;\n",
              "      --fill-color: #1967D2;\n",
              "      --hover-bg-color: #E2EBFA;\n",
              "      --hover-fill-color: #174EA6;\n",
              "      --disabled-fill-color: #AAA;\n",
              "      --disabled-bg-color: #DDD;\n",
              "  }\n",
              "\n",
              "  [theme=dark] .colab-df-quickchart {\n",
              "      --bg-color: #3B4455;\n",
              "      --fill-color: #D2E3FC;\n",
              "      --hover-bg-color: #434B5C;\n",
              "      --hover-fill-color: #FFFFFF;\n",
              "      --disabled-bg-color: #3B4455;\n",
              "      --disabled-fill-color: #666;\n",
              "  }\n",
              "\n",
              "  .colab-df-quickchart {\n",
              "    background-color: var(--bg-color);\n",
              "    border: none;\n",
              "    border-radius: 50%;\n",
              "    cursor: pointer;\n",
              "    display: none;\n",
              "    fill: var(--fill-color);\n",
              "    height: 32px;\n",
              "    padding: 0;\n",
              "    width: 32px;\n",
              "  }\n",
              "\n",
              "  .colab-df-quickchart:hover {\n",
              "    background-color: var(--hover-bg-color);\n",
              "    box-shadow: 0 1px 2px rgba(60, 64, 67, 0.3), 0 1px 3px 1px rgba(60, 64, 67, 0.15);\n",
              "    fill: var(--button-hover-fill-color);\n",
              "  }\n",
              "\n",
              "  .colab-df-quickchart-complete:disabled,\n",
              "  .colab-df-quickchart-complete:disabled:hover {\n",
              "    background-color: var(--disabled-bg-color);\n",
              "    fill: var(--disabled-fill-color);\n",
              "    box-shadow: none;\n",
              "  }\n",
              "\n",
              "  .colab-df-spinner {\n",
              "    border: 2px solid var(--fill-color);\n",
              "    border-color: transparent;\n",
              "    border-bottom-color: var(--fill-color);\n",
              "    animation:\n",
              "      spin 1s steps(1) infinite;\n",
              "  }\n",
              "\n",
              "  @keyframes spin {\n",
              "    0% {\n",
              "      border-color: transparent;\n",
              "      border-bottom-color: var(--fill-color);\n",
              "      border-left-color: var(--fill-color);\n",
              "    }\n",
              "    20% {\n",
              "      border-color: transparent;\n",
              "      border-left-color: var(--fill-color);\n",
              "      border-top-color: var(--fill-color);\n",
              "    }\n",
              "    30% {\n",
              "      border-color: transparent;\n",
              "      border-left-color: var(--fill-color);\n",
              "      border-top-color: var(--fill-color);\n",
              "      border-right-color: var(--fill-color);\n",
              "    }\n",
              "    40% {\n",
              "      border-color: transparent;\n",
              "      border-right-color: var(--fill-color);\n",
              "      border-top-color: var(--fill-color);\n",
              "    }\n",
              "    60% {\n",
              "      border-color: transparent;\n",
              "      border-right-color: var(--fill-color);\n",
              "    }\n",
              "    80% {\n",
              "      border-color: transparent;\n",
              "      border-right-color: var(--fill-color);\n",
              "      border-bottom-color: var(--fill-color);\n",
              "    }\n",
              "    90% {\n",
              "      border-color: transparent;\n",
              "      border-bottom-color: var(--fill-color);\n",
              "    }\n",
              "  }\n",
              "</style>\n",
              "\n",
              "  <script>\n",
              "    async function quickchart(key) {\n",
              "      const quickchartButtonEl =\n",
              "        document.querySelector('#' + key + ' button');\n",
              "      quickchartButtonEl.disabled = true;  // To prevent multiple clicks.\n",
              "      quickchartButtonEl.classList.add('colab-df-spinner');\n",
              "      try {\n",
              "        const charts = await google.colab.kernel.invokeFunction(\n",
              "            'suggestCharts', [key], {});\n",
              "      } catch (error) {\n",
              "        console.error('Error during call to suggestCharts:', error);\n",
              "      }\n",
              "      quickchartButtonEl.classList.remove('colab-df-spinner');\n",
              "      quickchartButtonEl.classList.add('colab-df-quickchart-complete');\n",
              "    }\n",
              "    (() => {\n",
              "      let quickchartButtonEl =\n",
              "        document.querySelector('#df-4dfa0a05-3066-4823-9242-3766f5a31c85 button');\n",
              "      quickchartButtonEl.style.display =\n",
              "        google.colab.kernel.accessAllowed ? 'block' : 'none';\n",
              "    })();\n",
              "  </script>\n",
              "</div>\n",
              "    </div>\n",
              "  </div>\n"
            ]
          },
          "metadata": {},
          "execution_count": 74
        }
      ]
    },
    {
      "cell_type": "markdown",
      "source": [
        "Проверим нормальностьраспределения возрастов , индексов массы тела и уровня глюкозы"
      ],
      "metadata": {
        "id": "NhrsoapXD4Pf"
      }
    },
    {
      "cell_type": "code",
      "source": [
        "import scipy.stats\n",
        "# проверка норм распред\n",
        "from scipy.stats import shapiro\n",
        "from scipy.stats import anderson\n",
        "from scipy.stats import kstest\n",
        "# проверка ненорм распред\n",
        "from scipy.stats import mannwhitneyu\n",
        "from scipy.stats import wilcoxon\n",
        "# сравнение категориальных выборок\n",
        "from scipy.stats import chi2_contingency"
      ],
      "metadata": {
        "id": "08qe0rmnFwjO"
      },
      "execution_count": 226,
      "outputs": []
    },
    {
      "cell_type": "code",
      "source": [
        "arr_G_age=np.array(df2['age'].values)\n",
        "arr_G_AGL=np.array(df2['avg_glucose_level'].values)\n",
        "arr_G_bmi=np.array(df2['bmi'].values)\n",
        "print(len(arr_G_age),' : ',arr_G_age)\n",
        "print(len(arr_G_AGL),' : ',arr_G_AGL)\n",
        "print(len(arr_G_bmi),' : ',arr_G_bmi)\n",
        "\n"
      ],
      "metadata": {
        "colab": {
          "base_uri": "https://localhost:8080/"
        },
        "id": "Fn-SpFFnD4Z0",
        "outputId": "13ee2910-2bbe-4b91-a732-8ec78365dc14"
      },
      "execution_count": 76,
      "outputs": [
        {
          "output_type": "stream",
          "name": "stdout",
          "text": [
            "4909  :  [67. 80. 49. ... 35. 51. 44.]\n",
            "4909  :  [228.69 105.92 171.23 ...  82.99 166.29  85.28]\n",
            "4909  :  [36.6 32.5 34.4 ... 30.6 25.6 26.2]\n"
          ]
        }
      ]
    },
    {
      "cell_type": "markdown",
      "source": [
        "Возраст"
      ],
      "metadata": {
        "id": "3Yr-uUpOG-6e"
      }
    },
    {
      "cell_type": "code",
      "source": [
        "alpha=0.05\n",
        "arr_G_age_MV=np.mean(arr_G_age)\n",
        "arr_G_age_std=np.std(arr_G_age)\n",
        "arr_G_age_scale=arr_G_age_std / np.sqrt(len(df2['age']))\n",
        "int_dov=scipy.stats.norm.interval(alpha , loc=arr_G_age_MV, scale=arr_G_age_scale)\n",
        "print(f'mean: {arr_G_age_MV}, st.dev: {arr_G_age_std}')\n",
        "print(f'int_dov(alpha={alpha}): {int_dov}')\n",
        "arr_G_age_min=np.min(arr_G_age)\n",
        "arr_G_age_max=np.max(arr_G_age)\n",
        "#plt.vlines(arr_G_age,,,,)\n",
        "\n"
      ],
      "metadata": {
        "colab": {
          "base_uri": "https://localhost:8080/",
          "height": 482
        },
        "id": "sOoxRKOvG5H5",
        "outputId": "b08cea9d-23fe-414c-97e7-0bd78790d871"
      },
      "execution_count": 92,
      "outputs": [
        {
          "output_type": "stream",
          "name": "stdout",
          "text": [
            "mean: 42.865373803218574, st.dev: 22.55281750822711\n",
            "int_dov(alpha=0.05): (42.84518926696955, 42.8855583394676)\n"
          ]
        },
        {
          "output_type": "execute_result",
          "data": {
            "text/plain": [
              "<Axes: ylabel='Count'>"
            ]
          },
          "metadata": {},
          "execution_count": 92
        },
        {
          "output_type": "display_data",
          "data": {
            "text/plain": [
              "<Figure size 640x480 with 1 Axes>"
            ],
            "image/png": "[encoded data removed]"
          },
          "metadata": {}
        }
      ]
    },
    {
      "cell_type": "code",
      "source": [
        "# @title Проверка по критериям\n",
        "def normalnoye(titles ,arra , alpha):\n",
        "  print('Анализ нормальности распределения по: ', titles)\n",
        "  statistica_SHW, p_val_SHW = shapiro(arra)\n",
        "  print('statistica_SHWs', statistica_SHW)\n",
        "  print('p_val  ',p_val_SHW)\n",
        "  print(alpha)\n",
        "  if p_val_SHW>alpha:\n",
        "    print('По критерию Шапиро-Уилка : Распределение можно приближенно нормальным')\n",
        "  else:\n",
        "    print('По критерию Шапиро-Уилка : Данные НЕ подчиняются нормальному распределению')\n",
        "  print('----------------------------------------------')\n",
        "\n",
        "  kstest_res=kstest(arra, 'norm', args=(),N=20, alternative='two-sided')\n",
        "  #print('P-val KStest:',kstest_res[1])\n",
        "  if kstest_res[1]>alpha:\n",
        "    print('По критерию Колмогорова-Смирнова : Распределение можно приближенно нормальным')\n",
        "  else:\n",
        "    print('По критерию Колмогорова-Смирнова : Данные НЕ подчиняются нормальному распределению')\n",
        "  print('----------------------------------------------')\n",
        "\n",
        "  result = anderson(arra)\n",
        "  alpha = 0.05\n",
        "  if result.statistic < result.critical_values[2] and all(level > alpha for level in result.significance_level):\n",
        "    print('По критерию Андерсона-Дарлинга :Распределение можно приближенно нормальным')\n",
        "  else:\n",
        "    print('По критерию Андерсона-Дарлинга :Данные НЕ подчиняются нормальному распределению')\n",
        "  print('----------------------------------------------')\n"
      ],
      "metadata": {
        "id": "2wb0VKf4KY-n"
      },
      "execution_count": 110,
      "outputs": []
    },
    {
      "cell_type": "code",
      "source": [
        "normalnoye('Возраст [age]', arr_G_age, 0.05)\n",
        "sns.histplot(arr_G_age, bins=40, kde=True)\n",
        "\n"
      ],
      "metadata": {
        "colab": {
          "base_uri": "https://localhost:8080/",
          "height": 621
        },
        "id": "wKTjwD3aNUsF",
        "outputId": "bab780bf-30b7-4a4c-fdd6-90afe5c7173b"
      },
      "execution_count": 113,
      "outputs": [
        {
          "output_type": "stream",
          "name": "stdout",
          "text": [
            "Анализ нормальности распределения по:  Возраст [age]\n",
            "statistica_SHWs 0.9682105779647827\n",
            "p_val   1.258497064878765e-31\n",
            "0.05\n",
            "По критерию Шапиро-Уилка : Данные НЕ подчиняются нормальному распределению\n",
            "----------------------------------------------\n",
            "По критерию Колмогорова-Смирнова : Данные НЕ подчиняются нормальному распределению\n",
            "----------------------------------------------\n",
            "По критерию Андерсона-Дарлинга :Данные НЕ подчиняются нормальному распределению\n",
            "----------------------------------------------\n"
          ]
        },
        {
          "output_type": "execute_result",
          "data": {
            "text/plain": [
              "<Axes: ylabel='Count'>"
            ]
          },
          "metadata": {},
          "execution_count": 113
        },
        {
          "output_type": "display_data",
          "data": {
            "text/plain": [
              "<Figure size 640x480 with 1 Axes>"
            ],
            "image/png": "[encoded data removed]"
          },
          "metadata": {}
        }
      ]
    },
    {
      "cell_type": "code",
      "source": [
        "normalnoye('уровень глюкозы [avg_glucose_level]', arr_G_AGL, 0.05)\n",
        "sns.histplot(arr_G_AGL, bins=40, kde=True)\n"
      ],
      "metadata": {
        "colab": {
          "base_uri": "https://localhost:8080/",
          "height": 621
        },
        "id": "jAMtH_XeSL1K",
        "outputId": "cc209b1b-3900-4c12-9cea-a0a950e8ef66"
      },
      "execution_count": 114,
      "outputs": [
        {
          "output_type": "stream",
          "name": "stdout",
          "text": [
            "Анализ нормальности распределения по:  уровень глюкозы [avg_glucose_level]\n",
            "statistica_SHWs 0.8058329820632935\n",
            "p_val   0.0\n",
            "0.05\n",
            "По критерию Шапиро-Уилка : Данные НЕ подчиняются нормальному распределению\n",
            "----------------------------------------------\n",
            "По критерию Колмогорова-Смирнова : Данные НЕ подчиняются нормальному распределению\n",
            "----------------------------------------------\n",
            "По критерию Андерсона-Дарлинга :Данные НЕ подчиняются нормальному распределению\n",
            "----------------------------------------------\n"
          ]
        },
        {
          "output_type": "execute_result",
          "data": {
            "text/plain": [
              "<Axes: ylabel='Count'>"
            ]
          },
          "metadata": {},
          "execution_count": 114
        },
        {
          "output_type": "display_data",
          "data": {
            "text/plain": [
              "<Figure size 640x480 with 1 Axes>"
            ],
            "image/png": "[encoded data removed]"
          },
          "metadata": {}
        }
      ]
    },
    {
      "cell_type": "code",
      "source": [
        "normalnoye('индекс массы тела [bmi]', arr_G_bmi, 0.05)\n",
        "sns.histplot(arr_G_bmi, bins=40, kde=True)"
      ],
      "metadata": {
        "colab": {
          "base_uri": "https://localhost:8080/",
          "height": 621
        },
        "id": "ajEyYmzMSPzb",
        "outputId": "9afa0c2c-a6aa-46d1-9548-78f2dff9e791"
      },
      "execution_count": 115,
      "outputs": [
        {
          "output_type": "stream",
          "name": "stdout",
          "text": [
            "Анализ нормальности распределения по:  индекс массы тела [bmi]\n",
            "statistica_SHWs 0.9535489082336426\n",
            "p_val   6.625949432834918e-37\n",
            "0.05\n",
            "По критерию Шапиро-Уилка : Данные НЕ подчиняются нормальному распределению\n",
            "----------------------------------------------\n",
            "По критерию Колмогорова-Смирнова : Данные НЕ подчиняются нормальному распределению\n",
            "----------------------------------------------\n",
            "По критерию Андерсона-Дарлинга :Данные НЕ подчиняются нормальному распределению\n",
            "----------------------------------------------\n"
          ]
        },
        {
          "output_type": "execute_result",
          "data": {
            "text/plain": [
              "<Axes: ylabel='Count'>"
            ]
          },
          "metadata": {},
          "execution_count": 115
        },
        {
          "output_type": "display_data",
          "data": {
            "text/plain": [
              "<Figure size 640x480 with 1 Axes>"
            ],
            "image/png": "[encoded data removed]"
          },
          "metadata": {}
        }
      ]
    },
    {
      "cell_type": "markdown",
      "metadata": {
        "id": "PqiFXzmzOI0-"
      },
      "source": [
        "== ==================================================== == ==========================================\n",
        "\n",
        "Задача 3 Сделать зависимые (произвольное разделение) и независимые (с помощью фильтров) выборки по нескольким столбцам.\n",
        "\n",
        "== ==================================================== == =========================================="
      ]
    },
    {
      "cell_type": "code",
      "source": [
        "nnn=20\n",
        "Sample_x2=random.sample(range(len(df2['bmi'])), 2*nnn)\n",
        "print(Sample_x2)\n",
        "vib_zav_1=[]\n",
        "vib_zav_2=[]\n",
        "sw=0\n",
        "for i in Sample_x2:\n",
        "  if sw == 0:\n",
        "    vib_zav_1.append(arr_G_bmi[i])\n",
        "    sw=1\n",
        "  else:\n",
        "    vib_zav_2.append(arr_G_bmi[i])\n",
        "    sw=0\n",
        "arr_vib_zav_1=np.array(vib_zav_1)\n",
        "arr_vib_zav_2=np.array(vib_zav_2)\n",
        "print('Зависимая(произвольное разделение)выборка 1 ',arr_vib_zav_1)\n",
        "print('Зависимая(произвольное разделение)выборка 2 ',arr_vib_zav_2)\n",
        "\n",
        "vib_nezav_1=[]\n",
        "vib_nezav_2=[]\n",
        "df3_1=df2['bmi'].loc[df2['Residence_type'] == 'Urban']\n",
        "df3_2=df2['bmi'].loc[df2['Residence_type'] == 'Rural']\n",
        "print('-----------------------------------')\n",
        "#print(df3_1.values, len(df3_1))\n",
        "Sample2_1=random.sample(range(len(df3_1)), nnn)\n",
        "Sample2_2=random.sample(range(len(df3_2)), nnn)\n",
        "#print(Sample2_1)\n",
        "#print(Sample2_2)\n",
        "arr_v_bmi_s1=np.array(df3_1.values)\n",
        "arr_v_bmi_s2=np.array(df3_2.values)\n",
        "for i in Sample2_1:\n",
        "  vib_nezav_1.append(arr_v_bmi_s1[i])\n",
        "for i in Sample2_2:\n",
        "  vib_nezav_2.append(arr_v_bmi_s2[i])\n",
        "\n",
        "arr_vib_nezav_1=np.array(vib_nezav_1)\n",
        "arr_vib_nezav_2=np.array(vib_nezav_2)\n",
        "print('Независимая (с помощью фильтров) выборка 1',arr_vib_nezav_1)\n",
        "print('Независимая (с помощью фильтров) выборка 2',arr_vib_nezav_2)\n",
        "print('-----------------------------------')\n",
        "MWNZV=scipy.stats.mannwhitneyu(arr_vib_nezav_1,arr_vib_nezav_2)\n",
        "MWZV=scipy.stats.mannwhitneyu(arr_vib_zav_1,arr_vib_zav_2)\n",
        "print(f'зав_1 и зав_2  stat: {MWZV[0]} ; p-val:{MWZV[1]}')\n",
        "print(f'незав_1 и незав_2  stat: {MWNZV[0]} ; p-val:{MWNZV[1]}')\n",
        "if  MWZV[1]> alpha:\n",
        "  print('Статистически значимых различий между выборками arr_vib_zav_1 и arr_vib_zav_2  не обнаружено')\n",
        "else:\n",
        "  print('Статистически значимые различия между выборками arr_vib_zav_1 и arr_vib_zav_2  есть')\n",
        "if  MWNZV[1]> alpha:\n",
        "  print('Статистически значимых различий между выборками arr_vib_nezav_1 и arr_vib_nezav_2  не обнаружено')\n",
        "else:\n",
        "  print('Статистически значимые различия между выборками arr_vib_nezav_1 и arr_vib_nezav_2  есть')"
      ],
      "metadata": {
        "id": "FCNt3-nXKVYy",
        "colab": {
          "base_uri": "https://localhost:8080/"
        },
        "outputId": "7fcb8a00-8de8-4e3e-d307-b3ebfde113e8"
      },
      "execution_count": 197,
      "outputs": [
        {
          "output_type": "stream",
          "name": "stdout",
          "text": [
            "[469, 3028, 3058, 672, 3875, 4466, 3302, 4199, 3647, 4731, 3055, 4717, 2790, 1489, 3870, 1598, 1068, 2046, 2295, 4623, 880, 3166, 1621, 3787, 4906, 2825, 3747, 1820, 776, 4839, 4907, 483, 990, 161, 2247, 2179, 3329, 812, 1454, 1492]\n",
            "Зависимая(произвольное разделение)выборка 1  [39.7 31.6 22.3 24.3 25.  29.3 23.7 35.2 42.2 27.6 22.8 32.  30.6 39.2\n",
            " 26.4 25.6 29.2 20.4 27.6 32.8]\n",
            "Зависимая(произвольное разделение)выборка 2  [25.1 23.5 32.3 20.8 24.8 37.2 25.1 44.8 34.3 23.4 13.5 25.4 40.1 30.8\n",
            " 28.7 28.7 45.5 20.3 38.9 34.4]\n",
            "-----------------------------------\n",
            "Независимая (с помощью фильтров) выборка 1 [27.5 23.7 32.8 33.7 26.5 34.5 17.2 38.6 23.  25.1 30.7 35.6 21.7 23.5\n",
            " 17.5 27.8 19.3 20.6 19.9 26.2]\n",
            "Независимая (с помощью фильтров) выборка 2 [24.8 34.5 35.7 34.7 35.8 32.6 28.8 24.7 33.3 38.7 28.2 35.8 25.5 30.1\n",
            " 30.9 30.1 19.8 16.4 29.5 21.5]\n",
            "-----------------------------------\n",
            "зав_1 и зав_2  stat: 197.0 ; p-val:0.9460763999037595\n",
            "незав_1 и незав_2  stat: 135.5 ; p-val:0.08337165066885797\n",
            "Статистически значимых различий между выборками arr_vib_zav_1 и arr_vib_zav_2  не обнаружено\n",
            "Статистически значимых различий между выборками arr_vib_nezav_1 и arr_vib_nezav_2  не обнаружено\n"
          ]
        }
      ]
    },
    {
      "cell_type": "markdown",
      "metadata": {
        "id": "KwIx9eZ6dIvz"
      },
      "source": [
        "== ==================================================== == ==========================================\n",
        "\n",
        "Задача 4 Выполнить сравнение выборок с помощью теста Стьюдента или тестов Манна-Уитни, Уилкоксона, Пирсона.\n",
        "\n",
        "== ==================================================== == =========================================="
      ]
    },
    {
      "cell_type": "code",
      "source": [
        "# @title По критерию Манна-Уитни:\n",
        "MWNZV=scipy.stats.mannwhitneyu(arr_vib_nezav_1,arr_vib_nezav_2)\n",
        "MWZV=scipy.stats.mannwhitneyu(arr_vib_zav_1,arr_vib_zav_2)\n",
        "print(f'зав_1 и зав_2  stat: {MWZV[0]} ; p-val:{MWZV[1]}')\n",
        "print(f'незав_1 и незав_2  stat: {MWNZV[0]} ; p-val:{MWNZV[1]}')\n",
        "print('По критерию Манна-Уитни:')\n",
        "if  MWZV[1]> alpha:\n",
        "  print('Статистически значимых различий между выборками arr_vib_zav_1 и arr_vib_zav_2  не обнаружено')\n",
        "else:\n",
        "  print('Статистически значимые различия между выборками arr_vib_zav_1 и arr_vib_zav_2  есть')\n",
        "if  MWNZV[1]> alpha:\n",
        "  print('Статистически значимых различий между выборками arr_vib_nezav_1 и arr_vib_nezav_2  не обнаружено')\n",
        "else:\n",
        "  print('Статистически значимые различия между выборками arr_vib_nezav_1 и arr_vib_nezav_2  есть')"
      ],
      "metadata": {
        "colab": {
          "base_uri": "https://localhost:8080/"
        },
        "id": "76YfaLkLbhgL",
        "outputId": "88b8b6d1-c384-4a33-f17a-77c9e0879974"
      },
      "execution_count": 202,
      "outputs": [
        {
          "output_type": "stream",
          "name": "stdout",
          "text": [
            "зав_1 и зав_2  stat: 197.0 ; p-val:0.9460763999037595\n",
            "незав_1 и незав_2  stat: 135.5 ; p-val:0.08337165066885797\n",
            "По критерию Манна-Уитни:\n",
            "Статистически значимых различий между выборками arr_vib_zav_1 и arr_vib_zav_2  не обнаружено\n",
            "Статистически значимых различий между выборками arr_vib_nezav_1 и arr_vib_nezav_2  не обнаружено\n"
          ]
        }
      ]
    },
    {
      "cell_type": "code",
      "source": [
        "# @title По критерию Уилкоксона:\n",
        "WNZV=scipy.stats.wilcoxon(arr_vib_nezav_1,arr_vib_nezav_2)\n",
        "WZV=scipy.stats.wilcoxon(arr_vib_zav_1,arr_vib_zav_2)\n",
        "print(f'зав_1 и зав_2  stat: {WZV[0]} ; p-val:{WZV[1]}')\n",
        "print(f'незав_1 и незав_2  stat: {WNZV[0]} ; p-val:{WNZV[1]}')\n",
        "print('По критерию Уилкоксона:')\n",
        "if  WZV[1]> alpha:\n",
        "  print('Статистически значимых различий между выборками arr_vib_zav_1 и arr_vib_zav_2  не обнаружено')\n",
        "else:\n",
        "  print('Статистически значимые различия между выборками arr_vib_zav_1 и arr_vib_zav_2  есть')\n",
        "if  WNZV[1]> alpha:\n",
        "  print('Статистически значимых различий между выборками arr_vib_nezav_1 и arr_vib_nezav_2  не обнаружено')\n",
        "else:\n",
        "  print('Статистически значимые различия между выборками arr_vib_nezav_1 и arr_vib_nezav_2  есть')"
      ],
      "metadata": {
        "colab": {
          "base_uri": "https://localhost:8080/"
        },
        "id": "qcoa3JDZbwct",
        "outputId": "90fa3eb3-df7d-46a5-9e1f-ac8f8555afa2"
      },
      "execution_count": 203,
      "outputs": [
        {
          "output_type": "stream",
          "name": "stdout",
          "text": [
            "зав_1 и зав_2  stat: 96.0 ; p-val:0.7561664581298828\n",
            "незав_1 и незав_2  stat: 58.0 ; p-val:0.082550048828125\n",
            "По критерию Уилкоксона:\n",
            "Статистически значимых различий между выборками arr_vib_zav_1 и arr_vib_zav_2  не обнаружено\n",
            "Статистически значимых различий между выборками arr_vib_nezav_1 и arr_vib_nezav_2  не обнаружено\n"
          ]
        }
      ]
    },
    {
      "cell_type": "code",
      "source": [
        "df4=df2.loc[df2['stroke'] == 1]\n",
        "df4=df4.loc[df4['hypertension'] == 1]\n",
        "df4.drop(['age','id','ever_married','ever_married','work_type','avg_glucose_level','bmi','smoking_status','stroke','hypertension','heart_disease'], axis= 1 , inplace= True )\n",
        "print(len(df4))\n",
        "#print(df4)\n",
        "contingency_table = pd.crosstab(df4['gender'],df4['Residence_type'])\n",
        "Chi2ContingencyResult=chi2_contingency(contingency_table)\n",
        "print(Chi2ContingencyResult)\n",
        "print('p-val= ',Chi2ContingencyResult[1])\n",
        "if  Chi2ContingencyResult[1]> alpha:\n",
        "  print('статистически значимая ассоциация (связь) между полом  и местом проживания для людей с зарегистрированным инсультом НЕ обнаружена')\n",
        "else:\n",
        "  print('статистически значимая ассоциация (связь) между полом  и местом проживания для людей с зарегистрированным инсультом ЕСТЬ')"
      ],
      "metadata": {
        "colab": {
          "base_uri": "https://localhost:8080/"
        },
        "id": "UxvZ0vEObxdN",
        "outputId": "98786869-7503-49b2-9646-52cbdd73dce2"
      },
      "execution_count": 231,
      "outputs": [
        {
          "output_type": "stream",
          "name": "stdout",
          "text": [
            "60\n",
            "Chi2ContingencyResult(statistic=0.04148753870667097, pvalue=0.8385997424674978, dof=1, expected_freq=array([[17.88333333, 19.11666667],\n",
            "       [11.11666667, 11.88333333]]))\n",
            "p-val=  0.8385997424674978\n",
            "статистически значимая ассоциация (связь) между полом  и местом проживания для людей с зарегистрированным инсультом НЕ обнаружена\n"
          ]
        }
      ]
    },
    {
      "cell_type": "code",
      "source": [
        "# @title Текст заголовка по умолчанию\n",
        "import scipy.stats\n",
        "from scipy.stats import shapiro\n",
        "X=df['v50'].values\n",
        "print(X)\n",
        "alpha = 0.05\n",
        "statistica_SHW, p_val = shapiro(X)\n",
        "print('statistica_SHWs', statistica_SHW)\n",
        "print('p_val  ',p_val)\n",
        "\n",
        "\n",
        "from scipy.stats import kstest\n",
        "kstest_res=kstest(X, 'norm', args=(),N=30, alternative='two-sided')\n",
        "\n",
        "print(kstest_res)\n",
        "\n",
        "from scipy.stats import anderson\n",
        "result = anderson(X)\n",
        "alpha = 0.05\n",
        "if result.statistic < result.critical_values[2] and all(level > alpha for level in result.significance_level):\n",
        "  print('Распределение можно приближенно нормальным')\n",
        "else:\n",
        "  print('Данные не подчиняются нормальному распределению')\n",
        "#print(result)\n",
        "from scipy import stats\n",
        "sample1=np.array([85, 91, 78, 76, 96, 88, 94, 82, 92, 85])\n",
        "mean_value=85\n",
        "t_statistic, p_value = scipy.stats.ttest_1samp(sample1,mean_value)\n",
        "print(t_statistic)\n",
        "print(p_value)\n",
        "print( scipy.stats.ttest_1samp(sample1,mean_value))\n",
        "print('-----------------------------------------')\n",
        "sample2=np.array([75,68,82,62,55,78,88,71,77,80])\n",
        "t_statistic, p_value = scipy.stats.ttest_ind(sample1, sample2)\n",
        "print(t_statistic)\n",
        "print(p_value)\n",
        "print(  scipy.stats.ttest_ind(sample1, sample2))\n",
        "\n",
        "\n"
      ],
      "metadata": {
        "cellView": "form",
        "id": "3z_paueDnJiD"
      },
      "execution_count": null,
      "outputs": []
    },
    {
      "cell_type": "code",
      "source": [
        "# @title Текст заголовка по умолчанию\n",
        "gr1=np.array([68,72,65,74,70])\n",
        "gr2=np.array([75,78,82,80,77])\n",
        "gr3=np.array([62,58,63,65,60])\n",
        "f_stat,p_lval=stats.f_oneway(gr1,gr2,gr3)\n",
        "print('gr1', np.mean(gr1))\n",
        "print('gr2', np.mean(gr2))\n",
        "print('gr3', np.mean(gr3))\n",
        "print(f_stat)\n",
        "print(p_lval)"
      ],
      "metadata": {
        "cellView": "form",
        "id": "99RHPwedyxMB"
      },
      "execution_count": null,
      "outputs": []
    },
    {
      "cell_type": "code",
      "source": [
        "# @title Текст заголовка по умолчанию\n",
        "from scipy.stats import mannwhitneyu\n",
        "\n",
        "grs1=np.array([12,15,18,21,23,24,28,30,32])\n",
        "grs2=np.array([8,11,14,19,22,25,27,31,35])\n",
        "scipy.stats.mannwhitneyu(grs1,grs2)\n",
        "#не можем отвергнуть гипотезу что выборки близки друг к другу"
      ],
      "metadata": {
        "colab": {
          "base_uri": "https://localhost:8080/"
        },
        "cellView": "form",
        "id": "4cwUwK1F2aIB",
        "outputId": "737fc176-5232-4cbd-f1ec-3e38185c6af3"
      },
      "execution_count": 43,
      "outputs": [
        {
          "output_type": "execute_result",
          "data": {
            "text/plain": [
              "MannwhitneyuResult(statistic=44.0, pvalue=0.7910815129207817)"
            ]
          },
          "metadata": {},
          "execution_count": 43
        }
      ]
    }
  ],
  "metadata": {
    "colab": {
      "provenance": [],
      "include_colab_link": true
    },
    "kernelspec": {
      "display_name": "Python 3",
      "name": "python3"
    },
    "language_info": {
      "name": "python"
    }
  },
  "nbformat": 4,
  "nbformat_minor": 0
}