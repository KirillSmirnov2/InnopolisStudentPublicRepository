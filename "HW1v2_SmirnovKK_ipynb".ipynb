{
  "nbformat": 4,
  "nbformat_minor": 0,
  "metadata": {
    "colab": {
      "provenance": [],
      "authorship_tag": "ABX9TyMMdkRs2TXZkjEftQzYxAMQ",
      "include_colab_link": true
    },
    "kernelspec": {
      "name": "python3",
      "display_name": "Python 3"
    },
    "language_info": {
      "name": "python"
    }
  },
  "cells": [
    {
      "cell_type": "markdown",
      "metadata": {
        "id": "view-in-github",
        "colab_type": "text"
      },
      "source": [
        "<a href=\"https://colab.research.google.com/github/KirillSmirnov2/InnopolisStudentPublicRepository/blob/main/%22HW1v2_SmirnovKK_ipynb%22.ipynb\" target=\"_parent\"><img src=\"https://colab.research.google.com/assets/colab-badge.svg\" alt=\"Open In Colab\"/></a>"
      ]
    },
    {
      "cell_type": "markdown",
      "source": [
        "Домашнее задание\n",
        "Выполнить одно из заданий. Результат должен быть представлен в\n",
        "виде датафрейма. Все индексы (названия столбцов и строк)\n",
        "должны быть заданы явно. В работе обязательно использовать\n",
        "циклы. После составления датафрейма применить к нему\n",
        "команду .loc для вывода на экран полученных данных (выбор\n",
        "данных – произвольный)."
      ],
      "metadata": {
        "id": "i-vBfCs5pFiC"
      }
    },
    {
      "cell_type": "markdown",
      "source": [
        "1 Составить код для заполнения таблицы умножения."
      ],
      "metadata": {
        "id": "F1NsjMCjpJro"
      }
    },
    {
      "cell_type": "markdown",
      "source": [
        "## ***---------------------------------------------------***\n",
        "Введите тип таблицы умножения:\n",
        "\n",
        "1 - простой: далее запросятся значения целых чисел в строках и столбцах, до которых будет составляться таблица (например, если в строке значение 4 - то :0,1,2,3,4; если в столбце значение \"-3\"- то: 0,-1,-2,-3);\n",
        "\n",
        "2 - сложный: введите списки значений столбцов и строк таблицы (например: в строках / 2 4  8  7  4 / ; в столбцах / 2.12  25  12  42.11 /)\n",
        "# ---------------------------------------------------"
      ],
      "metadata": {
        "id": "pFGY-Q9ktft_"
      }
    },
    {
      "cell_type": "code",
      "source": [
        "# @title Далее функция для создания таблицы умножения [def tablicka] которая формирует данные таблицы в зависимости от типа таблицы\n",
        "def tablicka(hw1_tab_type, ERR_FL, Tab2D, Cols, Rows):\n",
        "  if ERR_FL=='':\n",
        "    ERR_FL=0\n",
        "  if hw1_tab_type == '1':\n",
        "    hw1_option_1_note1= 'Введите число в шапке таблицы умножения до которой строить простую таблиц(Columns):  '\n",
        "    hw1_option_1_note2= 'Введите число в строках таблицы умножения до которой строить простую таблицу(Rows):  '\n",
        "    hw1_col= int(input(hw1_option_1_note1))\n",
        "    print('Задано значение в столбцах до(Columns):', hw1_col)\n",
        "    hw1_row= int(input(hw1_option_1_note2))\n",
        "    print('Задано значение в строках до(Rows):', hw1_row)\n",
        "    if hw1_col*hw1_row == 0:\n",
        "      ERR_FL=1\n",
        "      print('Неверно заданы параметры простой таблицы, введен 0')\n",
        "    if ERR_FL==0:\n",
        "      hw1_col_step=int(hw1_col/abs(hw1_col))\n",
        "      #print(hw1_col_step)\n",
        "      hw1_row_step=int(hw1_row/abs(hw1_row))\n",
        "      #print(hw1_row_step)\n",
        "      #---------------------\n",
        "      for j in range(0, hw1_row, hw1_row_step):\n",
        "        Rows.append(j+hw1_row_step)\n",
        "        if j ==0:\n",
        "          for i in range(0, hw1_col, hw1_col_step):\n",
        "            Cols.append(i+hw1_col_step)\n",
        "      #---------------------\n",
        "      Tab2D=[]\n",
        "      for i in Rows:\n",
        "        Tab1D=[]\n",
        "        for j in Cols:\n",
        "          Tab1D.append(i*j)\n",
        "        Tab2D.append(Tab1D)\n",
        "\n",
        "\n",
        "      #tablo = [Cols , Rows]\n",
        "  if hw1_tab_type == '2':\n",
        "    hw1_option_2_note1= 'Введите ряд чисел через пробел ' ' в шапке таблицы умножения (Columns):  '\n",
        "    hw1_option_2_note2= 'Введите ряд чисел через пробел ' ' в строках таблицы умножения (Rows):  '\n",
        "    hw1_col= input(hw1_option_2_note1)\n",
        "    hw1_col_list=hw1_col.split()\n",
        "    print('Задано значение в столбцах до(Columns):', hw1_col_list)\n",
        "    hw1_row= input(hw1_option_2_note2)\n",
        "    hw1_row_list=hw1_row.split()\n",
        "    print('Задано значение в строках до(Rows):', hw1_row_list)\n",
        "\n",
        "#    for i in hw1_col_list:\n",
        "#    for j in range(len(hw1_row_list)):\n",
        "#      if not hw1_row_list[j-1].isdigit():\n",
        "#        ERR_FL=1\n",
        "#    print('ERR_FL', ERR_FL)\n",
        "#    if ERR_FL==0:\n",
        "    for i in hw1_col_list:\n",
        "      Cols.append(float(i))\n",
        "    for j in hw1_row_list:\n",
        "      Rows.append(float(j))\n",
        "    Tab2D=[]\n",
        "    for i in Rows:\n",
        "      Tab1D=[]\n",
        "      for j in Cols:\n",
        "        Tab1D.append(i*j)\n",
        "      Tab2D.append(Tab1D)\n",
        "  return Tab2D\n",
        "\n"
      ],
      "metadata": {
        "cellView": "form",
        "id": "buLtXV1Y3mlh"
      },
      "execution_count": null,
      "outputs": []
    },
    {
      "cell_type": "code",
      "source": [
        "# @title Далее функция [pandatablicka] которая делает pd.DataFrame с таблицей умножения выбранного типа\n",
        "def pandatablicka(Cols, Rows, Tab2D):\n",
        "  print('Cols',Cols)\n",
        "  print('Rows',Rows)\n",
        "  print('Tab',Tab2D)\n",
        "  print('----------------------------------')\n",
        "  Tablicka_init=pd.DataFrame() #columns=Cols\n",
        "  #print(Tablicka_init)\n",
        "  #print(Tab2D[row-1][col-1])\n",
        "  #print(Tab2D[6][2])\n",
        "  Ser2=[]\n",
        "  #for i in Cols  :\n",
        "  for j in range(len(Rows)):\n",
        "    Ser=[Rows[j]]\n",
        "    #for j in Rows:\n",
        "    for i in range(len(Cols))  :\n",
        "      Ser.append(Tab2D[j][i])\n",
        "\n",
        "    Ser2.append(Ser)\n",
        "    insert_row = Ser\n",
        "    #print(Ser)\n",
        "    #print('=-=-=-=-=-=-=-=-=-=',j,'=-=-=-=-=-=-=-=-=-=')\n",
        "    Tablicka_init = pd.concat([Tablicka_init, pd.DataFrame([insert_row])])\n",
        "\n",
        "  print('--PandasDataFrameFormat-----')\n",
        "  #print(Ser2)\n",
        "  #print('----------------------------------')\n",
        "\n",
        "  Title=['row\\col']\n",
        "  for i in Cols:\n",
        "    Title.append(i)\n",
        "  Tablicka_init.columns = Title\n",
        "  Tablicka_init.index = Rows\n",
        "  return Tablicka_init"
      ],
      "metadata": {
        "cellView": "form",
        "id": "CefLs2SFLgKU"
      },
      "execution_count": null,
      "outputs": []
    },
    {
      "cell_type": "code",
      "source": [
        "# @title Далее основной код программы с запросом типа таблицы , данных/параметров для формирования таблицы и код с запуском процесса расчета таблицы и создания dp.dataframe\n",
        "import pandas as pd\n",
        "hw1_task_step=0\n",
        "ERR_FL=0\n",
        "text_1='Тип таблицы выбран: 1 - простой: далее запросятся значения целых чисел в строках и столбцах, до которых будет составляться таблица (например, если в строке значение 4 - то :0,1,2,3,4; если в столбце значение \"-3\"- то: 0,-1,-2,-3);'\n",
        "text_2='Тип таблицы выбран: 2 - сложный: введите списки значений столбцов и строк таблицы (например: в строках / 2 4  8  7  4 / ; в столбцах / 2.12  25  12  42.11 /)'\n",
        "ERR_FL=0\n",
        "hw1_options ={'1': text_1,'2':text_2}\n",
        "hw1_tab_type=input('Введите тип таблицы умножения( 1 - простой / 2 - сложный ): ')\n",
        "if (hw1_tab_type == '1') or  (hw1_tab_type == '2'):\n",
        "  if (hw1_tab_type == '1'): print(text_1)\n",
        "  elif (hw1_tab_type == '2'): print(text_2)\n",
        "else:\n",
        "  ERR_FL=1\n",
        "  print('Не задан тип таблицы')\n",
        "hw1_task_step=1\n",
        "Cols=[]\n",
        "Rows=[]\n",
        "Tab2D=[]\n",
        "Tab2D=tablicka(hw1_tab_type, ERR_FL, Tab2D, Cols, Rows)\n",
        "\n",
        "if ERR_FL==0:\n",
        "  Tab2D_in_pandas=pandatablicka(Cols,Rows,Tab2D)\n",
        "  print(Tab2D_in_pandas)\n",
        "#   print()"
      ],
      "metadata": {
        "colab": {
          "base_uri": "https://localhost:8080/"
        },
        "cellView": "form",
        "id": "btfRRWEJplTW",
        "outputId": "21382917-a245-4e20-88c9-26371ec6781b"
      },
      "execution_count": null,
      "outputs": [
        {
          "output_type": "stream",
          "name": "stdout",
          "text": [
            "Введите тип таблицы умножения( 1 - простой / 2 - сложный ): 1\n",
            "Тип таблицы выбран: 1 - простой: далее запросятся значения целых чисел в строках и столбцах, до которых будет составляться таблица (например, если в строке значение 4 - то :0,1,2,3,4; если в столбце значение \"-3\"- то: 0,-1,-2,-3);\n",
            "Введите число в шапке таблицы умножения до которой строить простую таблиц(Columns):  10\n",
            "Задано значение в столбцах до(Columns): 10\n",
            "Введите число в строках таблицы умножения до которой строить простую таблицу(Rows):  12\n",
            "Задано значение в строках до(Rows): 12\n",
            "Cols [1, 2, 3, 4, 5, 6, 7, 8, 9, 10]\n",
            "Rows [1, 2, 3, 4, 5, 6, 7, 8, 9, 10, 11, 12]\n",
            "Tab [[1, 2, 3, 4, 5, 6, 7, 8, 9, 10], [2, 4, 6, 8, 10, 12, 14, 16, 18, 20], [3, 6, 9, 12, 15, 18, 21, 24, 27, 30], [4, 8, 12, 16, 20, 24, 28, 32, 36, 40], [5, 10, 15, 20, 25, 30, 35, 40, 45, 50], [6, 12, 18, 24, 30, 36, 42, 48, 54, 60], [7, 14, 21, 28, 35, 42, 49, 56, 63, 70], [8, 16, 24, 32, 40, 48, 56, 64, 72, 80], [9, 18, 27, 36, 45, 54, 63, 72, 81, 90], [10, 20, 30, 40, 50, 60, 70, 80, 90, 100], [11, 22, 33, 44, 55, 66, 77, 88, 99, 110], [12, 24, 36, 48, 60, 72, 84, 96, 108, 120]]\n",
            "----------------------------------\n",
            "--PandasDataFrameFormat-----\n",
            "    row\\col   1   2   3   4   5   6   7   8    9   10\n",
            "1         1   1   2   3   4   5   6   7   8    9   10\n",
            "2         2   2   4   6   8  10  12  14  16   18   20\n",
            "3         3   3   6   9  12  15  18  21  24   27   30\n",
            "4         4   4   8  12  16  20  24  28  32   36   40\n",
            "5         5   5  10  15  20  25  30  35  40   45   50\n",
            "6         6   6  12  18  24  30  36  42  48   54   60\n",
            "7         7   7  14  21  28  35  42  49  56   63   70\n",
            "8         8   8  16  24  32  40  48  56  64   72   80\n",
            "9         9   9  18  27  36  45  54  63  72   81   90\n",
            "10       10  10  20  30  40  50  60  70  80   90  100\n",
            "11       11  11  22  33  44  55  66  77  88   99  110\n",
            "12       12  12  24  36  48  60  72  84  96  108  120\n"
          ]
        }
      ]
    },
    {
      "cell_type": "code",
      "source": [
        "# @title Вызов данных из pd.dataframe с использованием \".loc\"\n",
        "\n",
        "\n",
        "hw1_col_loc_text= 'Введите позицию в шапке таблицы умножения (Columns) 0 < x <=  '+str(len(Cols))+'  :  '\n",
        "hw1_row_loc_text= 'Введите позицию строки таблицы умножения (Rows) 0 < x <=  '+str(len(Rows))+' :  '\n",
        "hw1_col_loc= int(input(hw1_col_loc_text))\n",
        "hw1_row_loc= int(input(hw1_row_loc_text))\n",
        "\n",
        "result = Tab2D_in_pandas.loc[hw1_col_loc, hw1_row_loc]\n",
        "print('Данные выгружены из pd.dataframe для Column = ', hw1_col_loc, ', для Rows = ',hw1_row_loc ,',  итог из pd.dataframe: ', result)"
      ],
      "metadata": {
        "colab": {
          "base_uri": "https://localhost:8080/"
        },
        "cellView": "form",
        "id": "vpUjC1z6yRGr",
        "outputId": "c6085372-166c-40b4-a433-068ada1c94cf"
      },
      "execution_count": null,
      "outputs": [
        {
          "output_type": "stream",
          "name": "stdout",
          "text": [
            "Введите позицию в шапке таблицы умножения (Columns) 0 < x <=  10  :  7\n",
            "Введите позицию строки таблицы умножения (Rows) 0 < x <=  12 :  3\n",
            "Данные выгружены из pd.dataframe для Column =  7 , для Rows =  3 ,  итог из pd.dataframe:  21\n"
          ]
        }
      ]
    },
    {
      "cell_type": "markdown",
      "source": [],
      "metadata": {
        "id": "P7NZAZJY0jjO"
      }
    }
  ]
}